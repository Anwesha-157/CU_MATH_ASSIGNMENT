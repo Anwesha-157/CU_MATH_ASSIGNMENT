{
 "cells": [
  {
   "cell_type": "code",
   "execution_count": 4,
   "metadata": {},
   "outputs": [],
   "source": [
    "import matplotlib.pyplot as plt\n",
    "import numpy as np\n",
    "from scipy.stats import geom, binom, poisson, uniform\n",
    "\n",
    "# Geometric distribution\n",
    "def geometric(p, x):\n",
    "    return geom.pmf(x, p)\n",
    "\n",
    "# Binomial distribution\n",
    "def binomial(n, p, x):\n",
    "    return binom.pmf(x, n, p)\n",
    "\n",
    "# Poisson distribution\n",
    "def poisson_dist(mu, x):\n",
    "    return poisson.pmf(x, mu)\n",
    "\n",
    "# Uniform distribution\n",
    "def uniform_dist(a, b, x):\n",
    "    return uniform.pdf(x, a, b-a)"
   ]
  },
  {
   "cell_type": "code",
   "execution_count": 5,
   "metadata": {},
   "outputs": [
    {
     "ename": "IndentationError",
     "evalue": "unexpected indent (2229121767.py, line 2)",
     "output_type": "error",
     "traceback": [
      "\u001b[1;36m  Cell \u001b[1;32mIn[5], line 2\u001b[1;36m\u001b[0m\n\u001b[1;33m    plt.figure(figsize=(8, 6))\u001b[0m\n\u001b[1;37m    ^\u001b[0m\n\u001b[1;31mIndentationError\u001b[0m\u001b[1;31m:\u001b[0m unexpected indent\n"
     ]
    }
   ],
   "source": [
    "# Plot the distribution\n",
    "    plt.figure(figsize=(8, 6))\n",
    "    plt.bar(vals, probabilities, alpha=0.7, color='blue')\n",
    "    plt.title(f\"{dist_name.capitalize()} Distribution\")\n",
    "    plt.xlabel(\"Values\")\n",
    "    plt.ylabel(\"Probability\")\n",
    "    plt.grid(True)\n",
    "    plt.show()\n",
    "\n",
    "    return probabilities"
   ]
  }
 ],
 "metadata": {
  "kernelspec": {
   "display_name": "Python 3",
   "language": "python",
   "name": "python3"
  },
  "language_info": {
   "codemirror_mode": {
    "name": "ipython",
    "version": 3
   },
   "file_extension": ".py",
   "mimetype": "text/x-python",
   "name": "python",
   "nbconvert_exporter": "python",
   "pygments_lexer": "ipython3",
   "version": "3.8.0"
  }
 },
 "nbformat": 4,
 "nbformat_minor": 2
}
